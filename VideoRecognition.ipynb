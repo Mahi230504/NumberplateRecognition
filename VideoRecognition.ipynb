{
 "cells": [
  {
   "cell_type": "code",
   "execution_count": 104,
   "metadata": {},
   "outputs": [],
   "source": [
    "import cv2\n",
    "import easyocr\n",
    "import numpy as np\n",
    "import os\n",
    "import time\n"
   ]
  },
  {
   "cell_type": "code",
   "execution_count": 105,
   "metadata": {},
   "outputs": [],
   "source": [
    "\n",
    "# Create the 'images' folder if it doesn't exist\n",
    "output_folder = 'images'\n",
    "car_regions_folder = 'car-regions'\n",
    "\n",
    "if not os.path.exists(output_folder):\n",
    "    os.makedirs(output_folder)\n",
    "\n",
    "if not os.path.exists(car_regions_folder):\n",
    "    os.makedirs(car_regions_folder)"
   ]
  },
  {
   "cell_type": "code",
   "execution_count": 106,
   "metadata": {},
   "outputs": [],
   "source": [
    "def preprocess_image(image):\n",
    "    \"\"\"Preprocess the image for better OCR.\"\"\"\n",
    "    gray = cv2.cvtColor(image, cv2.COLOR_BGR2GRAY)  # Convert to grayscale\n",
    "    return gray"
   ]
  },
  {
   "cell_type": "code",
   "execution_count": 107,
   "metadata": {},
   "outputs": [],
   "source": [
    "\n",
    "def detect_number_plate(image):\n",
    "    \"\"\"Detect number plate text using EasyOCR.\"\"\"\n",
    "    reader = easyocr.Reader(['en'])  # Initialize EasyOCR reader for English\n",
    "    results = reader.readtext(image)\n",
    "\n",
    "    # Extract text\n",
    "    plate_text = \" \".join([res[1] for res in results])\n",
    "    return plate_text"
   ]
  },
  {
   "cell_type": "code",
   "execution_count": 108,
   "metadata": {},
   "outputs": [],
   "source": [
    "def process_frame(frame):\n",
    "    \"\"\"\n",
    "    Process a single frame to detect number plate text.\n",
    "    :param frame: A video frame or image.\n",
    "    :return: Extracted number plate text and the processed frame with annotations.\n",
    "    \"\"\"\n",
    "    # Preprocess the frame\n",
    "    preprocessed_frame = preprocess_image(frame)\n",
    "\n",
    "    # Detect number plate text\n",
    "    text = detect_number_plate(preprocessed_frame)\n",
    "\n",
    "    # Annotate the frame with detected text (optional)\n",
    "    if text.strip():  # Only annotate if text is detected\n",
    "        cv2.putText(frame, text, (10, 50), cv2.FONT_HERSHEY_SIMPLEX, 1, (255, 0, 0), 2)\n",
    "\n",
    "    return text, frame"
   ]
  },
  {
   "cell_type": "code",
   "execution_count": 109,
   "metadata": {},
   "outputs": [],
   "source": [
    "def is_valid_plate(text):\n",
    "    \"\"\"Validate the detected text as a potential license plate.\"\"\"\n",
    "    # Check if the text length and characters are reasonable for a license plate\n",
    "    return 5 <= len(text) <= 12 and any(char.isdigit() for char in text)"
   ]
  },
  {
   "cell_type": "code",
   "execution_count": 110,
   "metadata": {},
   "outputs": [],
   "source": [
    "def process_video_with_number_plate(video_path):\n",
    "    \"\"\"\n",
    "    Process a video to detect cars and extract number plate text.\n",
    "    :param video_path: Path to the video file.\n",
    "    \"\"\"\n",
    "    print(\"Initializing video capture...\")\n",
    "    cap = cv2.VideoCapture(video_path)\n",
    "\n",
    "    if not cap.isOpened():\n",
    "        print(\"Error: Unable to open video source.\")\n",
    "        return\n",
    "\n",
    "    print(\"Video source opened successfully. Press 'q' to quit.\")\n",
    "\n",
    "    frame_counter = 0  # Counter to track frames\n",
    "\n",
    "    while cap.isOpened():\n",
    "        ret, frame = cap.read()\n",
    "        if not ret:\n",
    "            print(\"End of video or unable to read frame.\")\n",
    "            break\n",
    "\n",
    "        frame_counter += 1\n",
    "\n",
    "        # Process every 90th frame (approximately every 3 seconds for 30 FPS video)\n",
    "        if frame_counter % 90 == 0:\n",
    "            print(f\"Processing frame {frame_counter}...\")\n",
    "\n",
    "            # Process the frame for number plate recognition\n",
    "            text, annotated_frame = process_frame(frame)\n",
    "\n",
    "            if text.strip():  # Only log if text is detected\n",
    "                print(f\"Detected Text: {text}\")\n",
    "\n",
    "            # Save the preprocessed frame and results (optional)\n",
    "            preprocessed_path = f\"images/frame_{frame_counter}.jpg\"\n",
    "            cv2.imwrite(preprocessed_path, annotated_frame)\n",
    "            print(f\"Frame saved to: {preprocessed_path}\")\n",
    "\n",
    "        # Display the video feed with annotations\n",
    "        cv2.imshow(\"Video Feed\", frame)\n",
    "\n",
    "        # Exit on 'q' key\n",
    "        if cv2.waitKey(1) & 0xFF == ord('q'):\n",
    "            print(\"Exiting video capture...\")\n",
    "            break\n",
    "\n",
    "    cap.release()\n",
    "    cv2.destroyAllWindows()\n"
   ]
  },
  {
   "cell_type": "code",
   "execution_count": null,
   "metadata": {},
   "outputs": [],
   "source": [
    "def capture_and_process_image():\n",
    "    \"\"\"Capture an image from live feed and extract number plate text.\"\"\"\n",
    "    print(\"Initializing camera...\")\n",
    "\n",
    "    cap = cv2.VideoCapture(0, cv2.CAP_AVFOUNDATION)\n",
    "\n",
    "    if not cap.isOpened():\n",
    "        print(\"Error: Unable to access the camera\")\n",
    "        return\n",
    "\n",
    "    print(\"Press 'c' to capture an image and extract number plate text or 'q' to quit.\")\n",
    "\n",
    "    while True:\n",
    "        ret, frame = cap.read()\n",
    "        if not ret:\n",
    "            print(\"Error: Unable to read from the camera\")\n",
    "            break\n",
    "\n",
    "        cv2.imshow(\"Camera Feed\", frame)\n",
    "\n",
    "        key = cv2.waitKey(1) & 0xFF\n",
    "        if key == ord('c'):\n",
    "            image_path = \"captured_image.jpg\"\n",
    "            cv2.imwrite(image_path, frame)\n",
    "\n",
    "            # Preprocess image and extract text\n",
    "            print(\"Processing image to extract number plate text...\")\n",
    "            preprocessed_image = preprocess_image(frame)\n",
    "            text = detect_number_plate(preprocessed_image)\n",
    "            print(f\"Extracted Text: {text}\")\n",
    "            break\n",
    "        elif key == ord('q'):\n",
    "            print(\"Exiting without capturing.\")\n",
    "            break\n",
    "\n",
    "    cap.release()\n",
    "    cv2.destroyAllWindows()\n"
   ]
  },
  {
   "cell_type": "code",
   "execution_count": null,
   "metadata": {},
   "outputs": [
    {
     "name": "stdout",
     "output_type": "stream",
     "text": [
      "Initializing video capture...\n",
      "Video source opened successfully. Press 'q' to quit.\n",
      "Processing frame 90...\n",
      "Detected Text: IP Camera 2017-08-29 05:33: Number Plate SL SAFEPRO\n",
      "Frame saved to: images/frame_90.jpg\n",
      "Processing frame 180...\n",
      "Detected Text: IP Camera 2017-08-21 05:33: Number Plate KA 02 MN 1826 Aedn SAFEPRO\n",
      "Frame saved to: images/frame_180.jpg\n",
      "Processing frame 270...\n",
      "Detected Text: IP Camera 201y-08-21 05.33: Number Plate FpNE 2e SAF_PRO\n",
      "Frame saved to: images/frame_270.jpg\n",
      "Processing frame 360...\n",
      "Detected Text: IP Camera 017-08-2 05*44: Number Plate Sa SAE: PRO X021h7256\n",
      "Frame saved to: images/frame_360.jpg\n",
      "Processing frame 450...\n",
      "Detected Text: IP Camera Z01y-08-2} 05*44: Number Plate KA 02 MM 9091 SL( SAE PRO X1024H7258\n",
      "Frame saved to: images/frame_450.jpg\n",
      "Processing frame 540...\n",
      "Detected Text: IP Camera ZQ17-08-23 05*45: Number Plate KA 02 MM 9091 Sa KA 02 Hm909t SAE PRO X1020H7258\n",
      "Frame saved to: images/frame_540.jpg\n",
      "Processing frame 630...\n",
      "Detected Text: IP Camera 017-08-23 05.45: Number Plate KA 02 MM 9091 KA 02 MM 9091 SAEEPRO X1024H7258\n",
      "Frame saved to: images/frame_630.jpg\n",
      "Processing frame 720...\n",
      "Detected Text: IP Camera Z01?-08 29 05*45 Number Plate SaC 3102wh7250 SAE_PRO\n",
      "Frame saved to: images/frame_720.jpg\n",
      "Processing frame 810...\n",
      "Detected Text: Don't Forget to Subscribel Thanks For Watching SUBSCRIBE\n",
      "Frame saved to: images/frame_810.jpg\n",
      "Processing frame 900...\n",
      "Detected Text: Don't Forget to Subscribel Thanks For Watching SUBSCRIBE\n",
      "Frame saved to: images/frame_900.jpg\n",
      "End of video or unable to read frame.\n"
     ]
    },
    {
     "ename": "",
     "evalue": "",
     "output_type": "error",
     "traceback": [
      "\u001b[1;31mThe Kernel crashed while executing code in the current cell or a previous cell. \n",
      "\u001b[1;31mPlease review the code in the cell(s) to identify a possible cause of the failure. \n",
      "\u001b[1;31mClick <a href='https://aka.ms/vscodeJupyterKernelCrash'>here</a> for more info. \n",
      "\u001b[1;31mView Jupyter <a href='command:jupyter.viewOutput'>log</a> for further details."
     ]
    }
   ],
   "source": [
    "if __name__ == \"__main__\":\n",
    "    # Choose a video or live feed for testing\n",
    "    video_path = '/Users/mohan/Downloads/Automatic Number Plate Recognition (ANPR) _ Vehicle Number Plate Recognition (1).mp4'\n",
    "    if video_path == \"0\":\n",
    "        capture_and_process_image()  # Use the live feed function\n",
    "    else:\n",
    "        process_video_with_number_plate(video_path)"
   ]
  },
  {
   "cell_type": "code",
   "execution_count": null,
   "metadata": {},
   "outputs": [],
   "source": []
  }
 ],
 "metadata": {
  "kernelspec": {
   "display_name": "Python 3",
   "language": "python",
   "name": "python3"
  },
  "language_info": {
   "codemirror_mode": {
    "name": "ipython",
    "version": 3
   },
   "file_extension": ".py",
   "mimetype": "text/x-python",
   "name": "python",
   "nbconvert_exporter": "python",
   "pygments_lexer": "ipython3",
   "version": "3.12.3"
  }
 },
 "nbformat": 4,
 "nbformat_minor": 2
}
