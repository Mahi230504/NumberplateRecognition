{
 "cells": [
  {
   "cell_type": "code",
   "execution_count": null,
   "metadata": {},
   "outputs": [
    {
     "name": "stdout",
     "output_type": "stream",
     "text": [
      "Reading image from file: /Users/mohan/NumberplateRecognition/car_regions/frame_240_car_1.jpg\n",
      "Processing image to extract number plate text...\n",
      "Extracted Text: Ka02 KN 182e\n"
     ]
    },
    {
     "ename": "",
     "evalue": "",
     "output_type": "error",
     "traceback": [
      "\u001b[1;31mThe Kernel crashed while executing code in the current cell or a previous cell. \n",
      "\u001b[1;31mPlease review the code in the cell(s) to identify a possible cause of the failure. \n",
      "\u001b[1;31mClick <a href='https://aka.ms/vscodeJupyterKernelCrash'>here</a> for more info. \n",
      "\u001b[1;31mView Jupyter <a href='command:jupyter.viewOutput'>log</a> for further details."
     ]
    }
   ],
   "source": [
    "import cv2\n",
    "import easyocr\n",
    "\n",
    "def preprocess_image(image):\n",
    "    \"\"\"Preprocess the image for better OCR.\"\"\"\n",
    "    gray = cv2.cvtColor(image, cv2.COLOR_BGR2GRAY)  # Convert to grayscale\n",
    "    return gray\n",
    "\n",
    "def detect_number_plate(image):\n",
    "    \"\"\"Detect number plate text using EasyOCR.\"\"\"\n",
    "    reader = easyocr.Reader(['en'])  # Initialize EasyOCR reader for English\n",
    "    results = reader.readtext(image)\n",
    "\n",
    "    # Extract text\n",
    "    plate_text = \" \".join([res[1] for res in results])\n",
    "    return plate_text\n",
    "\n",
    "def process_input(input_source):\n",
    "    \"\"\"\n",
    "    Process the input source.\n",
    "    If input_source is 0, capture from the camera.\n",
    "    If input_source is a file path, process the image.\n",
    "    \"\"\"\n",
    "    if input_source == \"0\":  # Handle live camera feed\n",
    "        print(\"Initializing camera...\")\n",
    "\n",
    "        cap = cv2.VideoCapture(0, cv2.CAP_AVFOUNDATION)\n",
    "\n",
    "        if not cap.isOpened():\n",
    "            print(\"Error: Unable to access the camera\")\n",
    "            return\n",
    "\n",
    "        print(\"Press 'c' to capture an image and extract number plate text or 'q' to quit.\")\n",
    "\n",
    "        while True:\n",
    "            ret, frame = cap.read()\n",
    "            if not ret:\n",
    "                print(\"Error: Unable to read from the camera\")\n",
    "                break\n",
    "\n",
    "            cv2.imshow(\"Camera Feed\", frame)\n",
    "\n",
    "            key = cv2.waitKey(1) & 0xFF\n",
    "            if key == ord('c'):\n",
    "                image_path = \"captured_image.jpg\"\n",
    "                cv2.imwrite(image_path, frame)\n",
    "                print(f\"Image saved as {image_path}\")\n",
    "\n",
    "                # Preprocess image and extract text\n",
    "                print(\"Processing captured image to extract number plate text...\")\n",
    "                preprocessed_image = preprocess_image(frame)\n",
    "                text = detect_number_plate(preprocessed_image)\n",
    "                print(f\"Extracted Text: {text}\")\n",
    "                break\n",
    "            elif key == ord('q'):\n",
    "                print(\"Exiting without capturing.\")\n",
    "                break\n",
    "\n",
    "        cap.release()\n",
    "        cv2.destroyAllWindows()\n",
    "\n",
    "    else:  # Handle image file input\n",
    "        try:\n",
    "            print(f\"Reading image from file: {input_source}\")\n",
    "            image = cv2.imread(input_source)\n",
    "            if image is None:\n",
    "                print(f\"Error: Unable to load the image from {input_source}\")\n",
    "                return\n",
    "\n",
    "            # Preprocess and extract text\n",
    "            print(\"Processing image to extract number plate text...\")\n",
    "            preprocessed_image = preprocess_image(image)\n",
    "            text = detect_number_plate(preprocessed_image)\n",
    "            print(f\"Extracted Text: {text}\")\n",
    "\n",
    "            # Optionally display the image\n",
    "            cv2.imshow(\"Input Image\", image)\n",
    "            cv2.waitKey(0)\n",
    "            cv2.destroyAllWindows()\n",
    "\n",
    "        except Exception as e:\n",
    "            print(f\"An error occurred: {e}\")\n",
    "\n",
    "if __name__ == \"__main__\":\n",
    "    input_source = '/Users/mohan/NumberplateRecognition/car_regions/frame_240_car_1.jpg'\n",
    "    process_input(input_source)\n"
   ]
  },
  {
   "cell_type": "code",
   "execution_count": null,
   "metadata": {},
   "outputs": [],
   "source": []
  }
 ],
 "metadata": {
  "kernelspec": {
   "display_name": "Python 3",
   "language": "python",
   "name": "python3"
  },
  "language_info": {
   "codemirror_mode": {
    "name": "ipython",
    "version": 3
   },
   "file_extension": ".py",
   "mimetype": "text/x-python",
   "name": "python",
   "nbconvert_exporter": "python",
   "pygments_lexer": "ipython3",
   "version": "3.12.3"
  }
 },
 "nbformat": 4,
 "nbformat_minor": 2
}
